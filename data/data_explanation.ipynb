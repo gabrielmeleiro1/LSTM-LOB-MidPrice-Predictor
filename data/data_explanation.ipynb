{
 "cells": [
  {
   "cell_type": "markdown",
   "metadata": {},
   "source": [
    "This dataset was produced and found in a research paper entitled: \"Benchmark Dataset for Mid-Price Forecasting of Limit Order Book Data with Machine Learning Methods\" (Ntakaris, A., Magris, M., Kanniainen, J., Gabbouj, M., & Iosifidis, A. (2018). Benchmark dataset for mid‐price forecasting of limit order book data with machine learning methods. Journal of Forecasting, 37(8), 852-866.)\n",
    "\n",
    "This was my first time working such a big and different dataset, which I think was the biggest challenge in this project; figuring out what the data actually looks like and how I can process it to make my life and my model's life easier. \n",
    "\n",
    "This data is basically a high-frequency limit order books from the NASDAQ Nordic stock market. The dataset used was the minmax normalized version of time series data for five stocks for a trading period of ten consecutive days. This lead to a data set of a around ~4,000,000 time series samples.\n"
   ]
  },
  {
   "cell_type": "markdown",
   "metadata": {},
   "source": [
    "We initally have a file with the following dimensions: (149, 39512). This is just from the first file; there are 9 files of training data and 9 files of test data.\n",
    "\n",
    "The rows indicate features such as assset price and volume, while the columns indicate the timestamp\n",
    "\n",
    "Based on the documentation on the dataset, the first 40 rows carry 10 levels of\n",
    "bid and ask from the order book, along with the volume of each particular price point.\n",
    "We have a total of 40 entries per timestamp since each side (buy and sell) contains 10\n",
    "price levels, and each level includes two points: price and volume. In other words, the\n",
    "limit order book in a single time snapshot shows up as an array of 40 elements."
   ]
  },
  {
   "cell_type": "markdown",
   "metadata": {},
   "source": [
    "We then convert the raw data into pandas DataFrames, separating ask prices, ask volumes, bid prices, and bid volumes. Finally, we reshape it into a 3D structure suitable for machine learning models, specially for time series models such as LSTM."
   ]
  },
  {
   "cell_type": "code",
   "execution_count": 1,
   "metadata": {},
   "outputs": [],
   "source": [
    "#Project inspired by: https://arxiv.org/pdf/1705.03233\n",
    "#Data Downloaded from: https://etsin.fairdata.fi/dataset/73eb48d7-4dbc-4a10-a52a-da745b47a649\n",
    "\n",
    "import pandas as pd\n",
    "import numpy as np\n",
    "import matplotlib.pyplot as plt\n",
    "import seaborn as sns\n",
    "\n",
    "# Load the data\n",
    "df = np.loadtxt(\"/Users/main/Downloads/LOB DATASET/train/Train_Dst_NoAuction_MinMax_CF_1.txt\")\n"
   ]
  },
  {
   "cell_type": "code",
   "execution_count": 2,
   "metadata": {},
   "outputs": [
    {
     "data": {
      "text/plain": [
       "(149, 39512)"
      ]
     },
     "execution_count": 2,
     "metadata": {},
     "output_type": "execute_result"
    }
   ],
   "source": [
    "#Original size\n",
    "df.shape"
   ]
  },
  {
   "cell_type": "code",
   "execution_count": 3,
   "metadata": {},
   "outputs": [
    {
     "name": "stdout",
     "output_type": "stream",
     "text": [
      "dfAskPrices shape: (39512, 10)\n",
      "dfAskVolumes shape: (39512, 10)\n",
      "dfBidPrices shape: (39512, 10)\n",
      "dfBidVolumes shape: (39512, 10)\n"
     ]
    }
   ],
   "source": [
    "#  DataFrame creation\n",
    "df2 = pd.DataFrame(df[:40, :].T)\n",
    "dfAskPrices = df2.iloc[:, 0::4]  # Every 4th column starting from 0\n",
    "dfAskVolumes = df2.iloc[:, 1::4]  # Every 4th column starting from 1\n",
    "dfBidPrices = df2.iloc[:, 2::4]  # Every 4th column starting from 2\n",
    "dfBidVolumes = df2.iloc[:, 3::4]  # Every 4th column starting from 3\n",
    "\n",
    "# Print shapes to verify\n",
    "print(\"dfAskPrices shape:\", dfAskPrices.shape)\n",
    "print(\"dfAskVolumes shape:\", dfAskVolumes.shape)\n",
    "print(\"dfBidPrices shape:\", dfBidPrices.shape)\n",
    "print(\"dfBidVolumes shape:\", dfBidVolumes.shape)"
   ]
  },
  {
   "cell_type": "markdown",
   "metadata": {},
   "source": [
    "Reshaped data for ease of training."
   ]
  },
  {
   "cell_type": "markdown",
   "metadata": {},
   "source": [
    "We can also print out the data in a way that a normal exchange order book would look like"
   ]
  },
  {
   "cell_type": "code",
   "execution_count": 5,
   "metadata": {},
   "outputs": [
    {
     "name": "stdout",
     "output_type": "stream",
     "text": [
      "Order Book Snapshot at timestamp 1\n",
      "\n",
      "Ask Side (Sell Orders):\n",
      "Level | Price | Volume\n",
      "    1 | 0.6015 | 0.0086\n",
      "    2 | 0.6028 | 0.0111\n",
      "    3 | 0.6026 | 0.0077\n",
      "    4 | 0.6020 | 0.0290\n",
      "    5 | 0.6031 | 0.0042\n",
      "    6 | 0.6007 | 0.0221\n",
      "    7 | 0.6013 | 0.0039\n",
      "    8 | 0.6026 | 0.0073\n",
      "    9 | 0.6029 | 0.0037\n",
      "   10 | 0.6059 | 0.0033\n",
      "\n",
      "Bid Side (Buy Orders):\n",
      "Level | Price | Volume\n",
      "    1 | 0.6014 | 0.0054\n",
      "    2 | 0.6010 | 0.0114\n",
      "    3 | 0.6005 | 0.0131\n",
      "    4 | 0.6005 | 0.0183\n",
      "    5 | 0.6005 | 0.0165\n",
      "    6 | 0.6010 | 0.0051\n",
      "    7 | 0.5996 | 0.0032\n",
      "    8 | 0.5995 | 0.0035\n",
      "    9 | 0.5990 | 0.0033\n",
      "   10 | 0.5983 | 0.0028\n",
      "\n",
      "Best Ask: 0.60150044\n",
      "Best Bid: 0.60142033\n",
      "Spread: 8.011000000007762e-05\n"
     ]
    }
   ],
   "source": [
    "def print_order_book_snapshot(timestamp=0):\n",
    "    print(\"Order Book Snapshot at timestamp\", timestamp)\n",
    "    print(\"\\nAsk Side (Sell Orders):\")\n",
    "    print(\"Level | Price | Volume\")\n",
    "    for level in range(10):\n",
    "        print(f\"{level+1:5d} | {dfAskPrices.iloc[timestamp, level]:6.4f} | {dfAskVolumes.iloc[timestamp, level]:6.4f}\")\n",
    "    \n",
    "    print(\"\\nBid Side (Buy Orders):\")\n",
    "    print(\"Level | Price | Volume\")\n",
    "    for level in range(10):\n",
    "        print(f\"{level+1:5d} | {dfBidPrices.iloc[timestamp, level]:6.4f} | {dfBidVolumes.iloc[timestamp, level]:6.4f}\")\n",
    "    \n",
    "    print(\"\\nBest Ask:\", dfAskPrices.iloc[timestamp, 0])\n",
    "    print(\"Best Bid:\", dfBidPrices.iloc[timestamp, 0])\n",
    "    print(\"Spread:\", dfAskPrices.iloc[timestamp, 0] - dfBidPrices.iloc[timestamp, 0])\n",
    "\n",
    "# Run the test for the first timestamp\n",
    "print_order_book_snapshot(0)"
   ]
  }
 ],
 "metadata": {
  "kernelspec": {
   "display_name": "base",
   "language": "python",
   "name": "python3"
  },
  "language_info": {
   "codemirror_mode": {
    "name": "ipython",
    "version": 3
   },
   "file_extension": ".py",
   "mimetype": "text/x-python",
   "name": "python",
   "nbconvert_exporter": "python",
   "pygments_lexer": "ipython3",
   "version": "3.11.7"
  }
 },
 "nbformat": 4,
 "nbformat_minor": 2
}
